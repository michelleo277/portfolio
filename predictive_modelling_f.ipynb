{
 "cells": [
  {
   "cell_type": "code",
   "execution_count": null,
   "metadata": {},
   "outputs": [],
   "source": [
    "import numpy as np\n",
    "import pandas as pd\n",
    "import matplotlib.pyplot as plt\n",
    "import seaborn as sns\n",
    "# Load dataset\n",
    "df = pd.read_csv(\"WA_Fn-UseC_-HR-Employee-Attrition.csv\")\n",
    "df_transformed = df\n"
   ]
  },
  {
   "cell_type": "code",
   "execution_count": null,
   "metadata": {},
   "outputs": [],
   "source": [
    "df.head()"
   ]
  },
  {
   "cell_type": "markdown",
   "metadata": {},
   "source": [
    "## Data Cleaning:\n",
    "\n",
    "Since the data was collected in-house through a multiple-choice survey without open-ended questions, the cleaning process is relatively straightforward. However, there are still a few aspects to check:\n",
    "\n",
    "- **Data types:** Ensure correct classification, primarily int64 and object.\n",
    "- **Duplicates and missing values:** Identify and handle any null or duplicate entries.\n",
    "- **Whitespace:** Extra spaces have been removed for consistency."
   ]
  },
  {
   "cell_type": "markdown",
   "metadata": {},
   "source": [
    "## Data Exploration"
   ]
  },
  {
   "cell_type": "code",
   "execution_count": null,
   "metadata": {},
   "outputs": [],
   "source": [
    "df.describe().T"
   ]
  },
  {
   "cell_type": "markdown",
   "metadata": {},
   "source": [
    "## Checking for Outliers  \n",
    "\n",
    "While some machine learning models are robust to outliers, understanding their presence is crucial, as many statistical techniques assume normally distributed errors. Skewed data can impact model performance, especially for algorithms sensitive to variance, such as linear regression and SVMs.  \n",
    "\n",
    "Common methods for detecting outliers include:  \n",
    "- **Z-score**: Identifies data points that deviate significantly from the mean.  \n",
    "- **Interquartile Range (IQR) Method**: Flags values that fall beyond 1.5 times the IQR.  \n",
    "- **Visualization Techniques**: Box plots, histograms, and density plots provide intuitive insights into data distribution.  \n",
    "\n",
    "For this analysis, I used **box plots** to visualize the spread and detect potential outliers effectively."
   ]
  },
  {
   "cell_type": "code",
   "execution_count": null,
   "metadata": {},
   "outputs": [],
   "source": [
    "# Set figure size\n",
    "plt.figure(figsize=(12, 6))\n",
    "\n",
    "# Create a boxplot for all numerical columns\n",
    "sns.boxplot(data=df, orient=\"h\")\n",
    "\n",
    "# Show the plot\n",
    "plt.title(\"Outlier Detection using Boxplots\")\n",
    "plt.show()"
   ]
  },
  {
   "cell_type": "markdown",
   "metadata": {},
   "source": [
    "Some results are difficult to interpret due to scaling in the graph above. To improve clarity, I created a focused visualization of selected columns below."
   ]
  },
  {
   "cell_type": "code",
   "execution_count": null,
   "metadata": {},
   "outputs": [],
   "source": [
    "columns_to_check = ['NumCompaniesWorked', 'PerformanceRating', 'StockOptionLevel','TotalWorkingYears','TrainingTimesLastYear','YearsAtCompany','YearsInCurrentRole','YearsSinceLastPromotion','YearsWithCurrManager']  # Replace with actual column names\n",
    "\n",
    "# Plot only selected columns\n",
    "plt.figure(figsize=(12, 6))\n",
    "sns.boxplot(data=df[columns_to_check], orient=\"h\")\n",
    "plt.show()"
   ]
  },
  {
   "cell_type": "markdown",
   "metadata": {},
   "source": [
    "### Comparing the box plots for each feature by Attrition:"
   ]
  }
 ],
 "metadata": {
  "language_info": {
   "name": "python"
  }
 },
 "nbformat": 4,
 "nbformat_minor": 2
}
